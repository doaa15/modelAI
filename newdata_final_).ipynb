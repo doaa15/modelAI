{
  "cells": [
    {
      "cell_type": "code",
      "execution_count": null,
      "metadata": {
        "colab": {
          "base_uri": "https://localhost:8080/"
        },
        "id": "qqd9XfakaZ9X",
        "outputId": "6837fa0f-fb61-409a-fdb0-bcb404cd03e7"
      },
      "outputs": [
        {
          "name": "stdout",
          "output_type": "stream",
          "text": [
            "Mounted at /content/drive\n"
          ]
        }
      ],
      "source": [
        "from google.colab import drive\n",
        "drive.mount('/content/drive')"
      ]
    },
    {
      "cell_type": "code",
      "execution_count": null,
      "metadata": {
        "id": "agRfoAZvfyBJ"
      },
      "outputs": [],
      "source": [
        "# import system libs\n",
        "import os\n",
        "import time\n",
        "import shutil\n",
        "import itertools\n",
        "\n",
        "# import data handling tools\n",
        "import cv2\n",
        "import numpy as np\n",
        "import pandas as pd\n",
        "import seaborn as sns\n",
        "sns.set_style('darkgrid')\n",
        "import matplotlib.pyplot as plt\n",
        "# import Deep learning Libraries\n",
        "import tensorflow as tf\n",
        "from tensorflow import keras\n",
        "from tensorflow.keras.layers import Conv2D, MaxPooling2D, Flatten, Dense, Activation, Dropout, BatchNormalization\n",
        "from tensorflow.keras.models import Model, load_model, Sequential\n",
        "from tensorflow.keras.preprocessing.image import ImageDataGenerator\n",
        "from sklearn.metrics import confusion_matrix, classification_report\n",
        "from sklearn.model_selection import train_test_split\n",
        "from tensorflow.keras.optimizers import Adam, Adamax\n",
        "from tensorflow.keras import regularizers\n",
        "from tensorflow.keras.metrics import categorical_crossentropy\n",
        "\n",
        "# Ignore Warnings\n",
        "import warnings\n",
        "warnings.filterwarnings(\"ignore\")"
      ]
    },
    {
      "cell_type": "code",
      "execution_count": null,
      "metadata": {
        "colab": {
          "base_uri": "https://localhost:8080/",
          "height": 255
        },
        "id": "xmt8F9QbfyEE",
        "outputId": "a3948aea-4112-42ac-c792-547e0494c57d"
      },
      "outputs": [
        {
          "data": {
            "application/vnd.google.colaboratory.intrinsic+json": {
              "type": "dataframe",
              "variable_name": "file"
            },
            "text/html": [
              "\n",
              "  <div id=\"df-ea87c4b7-ab31-47f7-ad49-ba59767cdbb8\" class=\"colab-df-container\">\n",
              "    <div>\n",
              "<style scoped>\n",
              "    .dataframe tbody tr th:only-of-type {\n",
              "        vertical-align: middle;\n",
              "    }\n",
              "\n",
              "    .dataframe tbody tr th {\n",
              "        vertical-align: top;\n",
              "    }\n",
              "\n",
              "    .dataframe thead th {\n",
              "        text-align: right;\n",
              "    }\n",
              "</style>\n",
              "<table border=\"1\" class=\"dataframe\">\n",
              "  <thead>\n",
              "    <tr style=\"text-align: right;\">\n",
              "      <th></th>\n",
              "      <th>pixel0000</th>\n",
              "      <th>pixel0001</th>\n",
              "      <th>pixel0002</th>\n",
              "      <th>pixel0003</th>\n",
              "      <th>pixel0004</th>\n",
              "      <th>pixel0005</th>\n",
              "      <th>pixel0006</th>\n",
              "      <th>pixel0007</th>\n",
              "      <th>pixel0008</th>\n",
              "      <th>pixel0009</th>\n",
              "      <th>...</th>\n",
              "      <th>pixel2343</th>\n",
              "      <th>pixel2344</th>\n",
              "      <th>pixel2345</th>\n",
              "      <th>pixel2346</th>\n",
              "      <th>pixel2347</th>\n",
              "      <th>pixel2348</th>\n",
              "      <th>pixel2349</th>\n",
              "      <th>pixel2350</th>\n",
              "      <th>pixel2351</th>\n",
              "      <th>label</th>\n",
              "    </tr>\n",
              "  </thead>\n",
              "  <tbody>\n",
              "    <tr>\n",
              "      <th>0</th>\n",
              "      <td>192</td>\n",
              "      <td>153</td>\n",
              "      <td>193</td>\n",
              "      <td>195</td>\n",
              "      <td>155</td>\n",
              "      <td>192</td>\n",
              "      <td>197</td>\n",
              "      <td>154</td>\n",
              "      <td>185</td>\n",
              "      <td>202</td>\n",
              "      <td>...</td>\n",
              "      <td>173</td>\n",
              "      <td>124</td>\n",
              "      <td>138</td>\n",
              "      <td>183</td>\n",
              "      <td>147</td>\n",
              "      <td>166</td>\n",
              "      <td>185</td>\n",
              "      <td>154</td>\n",
              "      <td>177</td>\n",
              "      <td>2</td>\n",
              "    </tr>\n",
              "    <tr>\n",
              "      <th>1</th>\n",
              "      <td>25</td>\n",
              "      <td>14</td>\n",
              "      <td>30</td>\n",
              "      <td>68</td>\n",
              "      <td>48</td>\n",
              "      <td>75</td>\n",
              "      <td>123</td>\n",
              "      <td>93</td>\n",
              "      <td>126</td>\n",
              "      <td>158</td>\n",
              "      <td>...</td>\n",
              "      <td>60</td>\n",
              "      <td>39</td>\n",
              "      <td>55</td>\n",
              "      <td>25</td>\n",
              "      <td>14</td>\n",
              "      <td>28</td>\n",
              "      <td>25</td>\n",
              "      <td>14</td>\n",
              "      <td>27</td>\n",
              "      <td>2</td>\n",
              "    </tr>\n",
              "    <tr>\n",
              "      <th>2</th>\n",
              "      <td>192</td>\n",
              "      <td>138</td>\n",
              "      <td>153</td>\n",
              "      <td>200</td>\n",
              "      <td>145</td>\n",
              "      <td>163</td>\n",
              "      <td>201</td>\n",
              "      <td>142</td>\n",
              "      <td>160</td>\n",
              "      <td>206</td>\n",
              "      <td>...</td>\n",
              "      <td>167</td>\n",
              "      <td>129</td>\n",
              "      <td>143</td>\n",
              "      <td>159</td>\n",
              "      <td>124</td>\n",
              "      <td>142</td>\n",
              "      <td>136</td>\n",
              "      <td>104</td>\n",
              "      <td>117</td>\n",
              "      <td>2</td>\n",
              "    </tr>\n",
              "    <tr>\n",
              "      <th>3</th>\n",
              "      <td>38</td>\n",
              "      <td>19</td>\n",
              "      <td>30</td>\n",
              "      <td>95</td>\n",
              "      <td>59</td>\n",
              "      <td>72</td>\n",
              "      <td>143</td>\n",
              "      <td>103</td>\n",
              "      <td>119</td>\n",
              "      <td>171</td>\n",
              "      <td>...</td>\n",
              "      <td>44</td>\n",
              "      <td>26</td>\n",
              "      <td>36</td>\n",
              "      <td>25</td>\n",
              "      <td>12</td>\n",
              "      <td>17</td>\n",
              "      <td>25</td>\n",
              "      <td>12</td>\n",
              "      <td>15</td>\n",
              "      <td>2</td>\n",
              "    </tr>\n",
              "    <tr>\n",
              "      <th>4</th>\n",
              "      <td>158</td>\n",
              "      <td>113</td>\n",
              "      <td>139</td>\n",
              "      <td>194</td>\n",
              "      <td>144</td>\n",
              "      <td>174</td>\n",
              "      <td>215</td>\n",
              "      <td>162</td>\n",
              "      <td>191</td>\n",
              "      <td>225</td>\n",
              "      <td>...</td>\n",
              "      <td>209</td>\n",
              "      <td>166</td>\n",
              "      <td>185</td>\n",
              "      <td>172</td>\n",
              "      <td>135</td>\n",
              "      <td>149</td>\n",
              "      <td>109</td>\n",
              "      <td>78</td>\n",
              "      <td>92</td>\n",
              "      <td>2</td>\n",
              "    </tr>\n",
              "  </tbody>\n",
              "</table>\n",
              "<p>5 rows × 2353 columns</p>\n",
              "</div>\n",
              "    <div class=\"colab-df-buttons\">\n",
              "\n",
              "  <div class=\"colab-df-container\">\n",
              "    <button class=\"colab-df-convert\" onclick=\"convertToInteractive('df-ea87c4b7-ab31-47f7-ad49-ba59767cdbb8')\"\n",
              "            title=\"Convert this dataframe to an interactive table.\"\n",
              "            style=\"display:none;\">\n",
              "\n",
              "  <svg xmlns=\"http://www.w3.org/2000/svg\" height=\"24px\" viewBox=\"0 -960 960 960\">\n",
              "    <path d=\"M120-120v-720h720v720H120Zm60-500h600v-160H180v160Zm220 220h160v-160H400v160Zm0 220h160v-160H400v160ZM180-400h160v-160H180v160Zm440 0h160v-160H620v160ZM180-180h160v-160H180v160Zm440 0h160v-160H620v160Z\"/>\n",
              "  </svg>\n",
              "    </button>\n",
              "\n",
              "  <style>\n",
              "    .colab-df-container {\n",
              "      display:flex;\n",
              "      gap: 12px;\n",
              "    }\n",
              "\n",
              "    .colab-df-convert {\n",
              "      background-color: #E8F0FE;\n",
              "      border: none;\n",
              "      border-radius: 50%;\n",
              "      cursor: pointer;\n",
              "      display: none;\n",
              "      fill: #1967D2;\n",
              "      height: 32px;\n",
              "      padding: 0 0 0 0;\n",
              "      width: 32px;\n",
              "    }\n",
              "\n",
              "    .colab-df-convert:hover {\n",
              "      background-color: #E2EBFA;\n",
              "      box-shadow: 0px 1px 2px rgba(60, 64, 67, 0.3), 0px 1px 3px 1px rgba(60, 64, 67, 0.15);\n",
              "      fill: #174EA6;\n",
              "    }\n",
              "\n",
              "    .colab-df-buttons div {\n",
              "      margin-bottom: 4px;\n",
              "    }\n",
              "\n",
              "    [theme=dark] .colab-df-convert {\n",
              "      background-color: #3B4455;\n",
              "      fill: #D2E3FC;\n",
              "    }\n",
              "\n",
              "    [theme=dark] .colab-df-convert:hover {\n",
              "      background-color: #434B5C;\n",
              "      box-shadow: 0px 1px 3px 1px rgba(0, 0, 0, 0.15);\n",
              "      filter: drop-shadow(0px 1px 2px rgba(0, 0, 0, 0.3));\n",
              "      fill: #FFFFFF;\n",
              "    }\n",
              "  </style>\n",
              "\n",
              "    <script>\n",
              "      const buttonEl =\n",
              "        document.querySelector('#df-ea87c4b7-ab31-47f7-ad49-ba59767cdbb8 button.colab-df-convert');\n",
              "      buttonEl.style.display =\n",
              "        google.colab.kernel.accessAllowed ? 'block' : 'none';\n",
              "\n",
              "      async function convertToInteractive(key) {\n",
              "        const element = document.querySelector('#df-ea87c4b7-ab31-47f7-ad49-ba59767cdbb8');\n",
              "        const dataTable =\n",
              "          await google.colab.kernel.invokeFunction('convertToInteractive',\n",
              "                                                    [key], {});\n",
              "        if (!dataTable) return;\n",
              "\n",
              "        const docLinkHtml = 'Like what you see? Visit the ' +\n",
              "          '<a target=\"_blank\" href=https://colab.research.google.com/notebooks/data_table.ipynb>data table notebook</a>'\n",
              "          + ' to learn more about interactive tables.';\n",
              "        element.innerHTML = '';\n",
              "        dataTable['output_type'] = 'display_data';\n",
              "        await google.colab.output.renderOutput(dataTable, element);\n",
              "        const docLink = document.createElement('div');\n",
              "        docLink.innerHTML = docLinkHtml;\n",
              "        element.appendChild(docLink);\n",
              "      }\n",
              "    </script>\n",
              "  </div>\n",
              "\n",
              "\n",
              "<div id=\"df-a8d77916-89f8-404c-9053-97fab78b8684\">\n",
              "  <button class=\"colab-df-quickchart\" onclick=\"quickchart('df-a8d77916-89f8-404c-9053-97fab78b8684')\"\n",
              "            title=\"Suggest charts\"\n",
              "            style=\"display:none;\">\n",
              "\n",
              "<svg xmlns=\"http://www.w3.org/2000/svg\" height=\"24px\"viewBox=\"0 0 24 24\"\n",
              "     width=\"24px\">\n",
              "    <g>\n",
              "        <path d=\"M19 3H5c-1.1 0-2 .9-2 2v14c0 1.1.9 2 2 2h14c1.1 0 2-.9 2-2V5c0-1.1-.9-2-2-2zM9 17H7v-7h2v7zm4 0h-2V7h2v10zm4 0h-2v-4h2v4z\"/>\n",
              "    </g>\n",
              "</svg>\n",
              "  </button>\n",
              "\n",
              "<style>\n",
              "  .colab-df-quickchart {\n",
              "      --bg-color: #E8F0FE;\n",
              "      --fill-color: #1967D2;\n",
              "      --hover-bg-color: #E2EBFA;\n",
              "      --hover-fill-color: #174EA6;\n",
              "      --disabled-fill-color: #AAA;\n",
              "      --disabled-bg-color: #DDD;\n",
              "  }\n",
              "\n",
              "  [theme=dark] .colab-df-quickchart {\n",
              "      --bg-color: #3B4455;\n",
              "      --fill-color: #D2E3FC;\n",
              "      --hover-bg-color: #434B5C;\n",
              "      --hover-fill-color: #FFFFFF;\n",
              "      --disabled-bg-color: #3B4455;\n",
              "      --disabled-fill-color: #666;\n",
              "  }\n",
              "\n",
              "  .colab-df-quickchart {\n",
              "    background-color: var(--bg-color);\n",
              "    border: none;\n",
              "    border-radius: 50%;\n",
              "    cursor: pointer;\n",
              "    display: none;\n",
              "    fill: var(--fill-color);\n",
              "    height: 32px;\n",
              "    padding: 0;\n",
              "    width: 32px;\n",
              "  }\n",
              "\n",
              "  .colab-df-quickchart:hover {\n",
              "    background-color: var(--hover-bg-color);\n",
              "    box-shadow: 0 1px 2px rgba(60, 64, 67, 0.3), 0 1px 3px 1px rgba(60, 64, 67, 0.15);\n",
              "    fill: var(--button-hover-fill-color);\n",
              "  }\n",
              "\n",
              "  .colab-df-quickchart-complete:disabled,\n",
              "  .colab-df-quickchart-complete:disabled:hover {\n",
              "    background-color: var(--disabled-bg-color);\n",
              "    fill: var(--disabled-fill-color);\n",
              "    box-shadow: none;\n",
              "  }\n",
              "\n",
              "  .colab-df-spinner {\n",
              "    border: 2px solid var(--fill-color);\n",
              "    border-color: transparent;\n",
              "    border-bottom-color: var(--fill-color);\n",
              "    animation:\n",
              "      spin 1s steps(1) infinite;\n",
              "  }\n",
              "\n",
              "  @keyframes spin {\n",
              "    0% {\n",
              "      border-color: transparent;\n",
              "      border-bottom-color: var(--fill-color);\n",
              "      border-left-color: var(--fill-color);\n",
              "    }\n",
              "    20% {\n",
              "      border-color: transparent;\n",
              "      border-left-color: var(--fill-color);\n",
              "      border-top-color: var(--fill-color);\n",
              "    }\n",
              "    30% {\n",
              "      border-color: transparent;\n",
              "      border-left-color: var(--fill-color);\n",
              "      border-top-color: var(--fill-color);\n",
              "      border-right-color: var(--fill-color);\n",
              "    }\n",
              "    40% {\n",
              "      border-color: transparent;\n",
              "      border-right-color: var(--fill-color);\n",
              "      border-top-color: var(--fill-color);\n",
              "    }\n",
              "    60% {\n",
              "      border-color: transparent;\n",
              "      border-right-color: var(--fill-color);\n",
              "    }\n",
              "    80% {\n",
              "      border-color: transparent;\n",
              "      border-right-color: var(--fill-color);\n",
              "      border-bottom-color: var(--fill-color);\n",
              "    }\n",
              "    90% {\n",
              "      border-color: transparent;\n",
              "      border-bottom-color: var(--fill-color);\n",
              "    }\n",
              "  }\n",
              "</style>\n",
              "\n",
              "  <script>\n",
              "    async function quickchart(key) {\n",
              "      const quickchartButtonEl =\n",
              "        document.querySelector('#' + key + ' button');\n",
              "      quickchartButtonEl.disabled = true;  // To prevent multiple clicks.\n",
              "      quickchartButtonEl.classList.add('colab-df-spinner');\n",
              "      try {\n",
              "        const charts = await google.colab.kernel.invokeFunction(\n",
              "            'suggestCharts', [key], {});\n",
              "      } catch (error) {\n",
              "        console.error('Error during call to suggestCharts:', error);\n",
              "      }\n",
              "      quickchartButtonEl.classList.remove('colab-df-spinner');\n",
              "      quickchartButtonEl.classList.add('colab-df-quickchart-complete');\n",
              "    }\n",
              "    (() => {\n",
              "      let quickchartButtonEl =\n",
              "        document.querySelector('#df-a8d77916-89f8-404c-9053-97fab78b8684 button');\n",
              "      quickchartButtonEl.style.display =\n",
              "        google.colab.kernel.accessAllowed ? 'block' : 'none';\n",
              "    })();\n",
              "  </script>\n",
              "</div>\n",
              "\n",
              "    </div>\n",
              "  </div>\n"
            ],
            "text/plain": [
              "   pixel0000  pixel0001  pixel0002  pixel0003  pixel0004  pixel0005  \\\n",
              "0        192        153        193        195        155        192   \n",
              "1         25         14         30         68         48         75   \n",
              "2        192        138        153        200        145        163   \n",
              "3         38         19         30         95         59         72   \n",
              "4        158        113        139        194        144        174   \n",
              "\n",
              "   pixel0006  pixel0007  pixel0008  pixel0009  ...  pixel2343  pixel2344  \\\n",
              "0        197        154        185        202  ...        173        124   \n",
              "1        123         93        126        158  ...         60         39   \n",
              "2        201        142        160        206  ...        167        129   \n",
              "3        143        103        119        171  ...         44         26   \n",
              "4        215        162        191        225  ...        209        166   \n",
              "\n",
              "   pixel2345  pixel2346  pixel2347  pixel2348  pixel2349  pixel2350  \\\n",
              "0        138        183        147        166        185        154   \n",
              "1         55         25         14         28         25         14   \n",
              "2        143        159        124        142        136        104   \n",
              "3         36         25         12         17         25         12   \n",
              "4        185        172        135        149        109         78   \n",
              "\n",
              "   pixel2351  label  \n",
              "0        177      2  \n",
              "1         27      2  \n",
              "2        117      2  \n",
              "3         15      2  \n",
              "4         92      2  \n",
              "\n",
              "[5 rows x 2353 columns]"
            ]
          },
          "execution_count": 3,
          "metadata": {},
          "output_type": "execute_result"
        }
      ],
      "source": [
        "data_dir = '/content/drive/MyDrive/archive/hmnist_28_28_RGB.csv'\n",
        "file = pd.read_csv(data_dir)\n",
        "file.head()"
      ]
    },
    {
      "cell_type": "code",
      "execution_count": null,
      "metadata": {
        "id": "a0YE30MOfyGa"
      },
      "outputs": [],
      "source": [
        "labels = file[\"label\"]\n",
        "features = file.drop(columns=\"label\")"
      ]
    },
    {
      "cell_type": "code",
      "execution_count": null,
      "metadata": {
        "colab": {
          "base_uri": "https://localhost:8080/"
        },
        "id": "75Nfm3LTfyI5",
        "outputId": "4f4ea00b-2123-4096-95c4-8e69ece34b24"
      },
      "outputs": [
        {
          "data": {
            "text/plain": [
              "label\n",
              "4    6705\n",
              "6    1113\n",
              "2    1099\n",
              "1     514\n",
              "0     327\n",
              "5     142\n",
              "3     115\n",
              "Name: count, dtype: int64"
            ]
          },
          "execution_count": 8,
          "metadata": {},
          "output_type": "execute_result"
        }
      ],
      "source": [
        "file[\"label\"].value_counts()"
      ]
    },
    {
      "cell_type": "code",
      "execution_count": null,
      "metadata": {
        "colab": {
          "base_uri": "https://localhost:8080/"
        },
        "id": "64DKOwUQfyNx",
        "outputId": "cc8820e8-1cb1-45af-c490-f87e23f87d08"
      },
      "outputs": [
        {
          "name": "stdout",
          "output_type": "stream",
          "text": [
            "Shape of Data : (10015, 28, 28, 3)\n",
            "shape of labels : (10015,)\n"
          ]
        }
      ],
      "source": [
        "features = np.array(features).reshape(-1,28,28,3)\n",
        "print('Shape of Data :',features.shape)\n",
        "print(\"shape of labels :\", labels.shape)"
      ]
    },
    {
      "cell_type": "code",
      "execution_count": null,
      "metadata": {
        "colab": {
          "base_uri": "https://localhost:8080/"
        },
        "id": "GsTDp7oW_jWy",
        "outputId": "e36a8e30-1360-4df7-8a13-c5237ea9bace"
      },
      "outputs": [
        {
          "data": {
            "text/plain": [
              "array([2, 2, 2, ..., 0, 0, 6])"
            ]
          },
          "execution_count": 10,
          "metadata": {},
          "output_type": "execute_result"
        }
      ],
      "source": [
        "labels = np.array(labels)\n",
        "labels"
      ]
    },
    {
      "cell_type": "code",
      "execution_count": null,
      "metadata": {
        "id": "0_QUMAso_lr5"
      },
      "outputs": [],
      "source": [
        "from sklearn.utils import shuffle\n",
        "\n",
        "features, labels = shuffle(features, labels, random_state = 42)"
      ]
    },
    {
      "cell_type": "code",
      "execution_count": null,
      "metadata": {
        "id": "8kcgJ8R9fyQX"
      },
      "outputs": [],
      "source": [
        "classes = {4: ('nv'    , ' melanocytic nevi'),\n",
        "           6: ('mel'   , 'melanoma'),\n",
        "           2: ('bkl'   , 'benign keratosis-like lesions'),\n",
        "           1: ('bcc'   , 'basal cell carcinoma'),\n",
        "           5: ('vasc'  , 'pyogenic granulomas and hemorrhage'),\n",
        "           0: ('akiec' , 'Actinic keratoses and intraepithelial carcinomae'),\n",
        "          3: ('df'    , 'dermatofibroma')\n",
        "           }"
      ]
    },
    {
      "cell_type": "code",
      "execution_count": null,
      "metadata": {
        "colab": {
          "base_uri": "https://localhost:8080/",
          "height": 541
        },
        "id": "ku4YHupVfyS8",
        "outputId": "5156f7e6-480f-43f1-9635-4518a7344365"
      },
      "outputs": [
        {
          "data": {
            "image/png": "[encoded data removed]",
            "text/plain": [
              "<Figure size 1000x1000 with 10 Axes>"
            ]
          },
          "metadata": {},
          "output_type": "display_data"
        }
      ],
      "source": [
        "f , ax = plt.subplots(2,5)\n",
        "f.set_size_inches(10, 10)\n",
        "k = 0\n",
        "for i in range(2):\n",
        "    for j in range(5):\n",
        "        ax[i,j].imshow(features[k].reshape(28,28,3))\n",
        "        k = k + 1\n",
        "    plt.tight_layout()"
      ]
    },
    {
      "cell_type": "code",
      "execution_count": null,
      "metadata": {
        "id": "s5WGpwqrfyVk"
      },
      "outputs": [],
      "source": [
        "X_train , X_test , y_train , y_test = train_test_split(features , labels , test_size = 0.20 , random_state = 42)\n",
        "X_train , X_valid , y_train , y_valid = train_test_split(X_train, y_train, test_size = 0.1, random_state = 42)"
      ]
    },
    {
      "cell_type": "code",
      "execution_count": null,
      "metadata": {
        "id": "7085jokK_1PQ"
      },
      "outputs": [],
      "source": [
        "from keras.utils import to_categorical\n",
        "\n",
        "y_train_ = to_categorical(y_train)\n",
        "y_test_ = to_categorical(y_test)\n",
        "y_valid_ = to_categorical(y_valid)"
      ]
    },
    {
      "cell_type": "markdown",
      "metadata": {
        "id": "he8-iRCfAa3l"
      },
      "source": [
        "# The old model"
      ]
    },
    {
      "cell_type": "code",
      "execution_count": null,
      "metadata": {
        "id": "YVQeie6sfyaz"
      },
      "outputs": [],
      "source": [
        "datagen = ImageDataGenerator(rescale=(1./255)\n",
        "                             ,rotation_range=10\n",
        "                             ,zoom_range = 0.1\n",
        "                             ,width_shift_range=0.1\n",
        "                             ,height_shift_range=0.1)\n",
        "\n",
        "testgen = ImageDataGenerator(rescale=(1./255))"
      ]
    },
    {
      "cell_type": "code",
      "execution_count": null,
      "metadata": {
        "id": "EZftGugqfydC"
      },
      "outputs": [],
      "source": [
        "from tensorflow.keras.callbacks import ReduceLROnPlateau, ModelCheckpoint\n",
        "\n",
        "# Existing ReduceLROnPlateau callback\n",
        "learning_rate_reduction = ReduceLROnPlateau(\n",
        "    monitor='val_accuracy',\n",
        "    patience=2,\n",
        "    verbose=1,\n",
        "    factor=0.5,\n",
        "    min_lr=0.00001\n",
        ")\n",
        "\n",
        "# Adding ModelCheckpoint callback\n",
        "checkpoint = ModelCheckpoint(\n",
        "    filepath='model_checkpoint.h5',  # Path where the model will be saved\n",
        "    monitor='val_accuracy',  # Metric to monitor\n",
        "    verbose=1,  # Verbosity mode, 1 = logs the saving action\n",
        "    save_best_only=True,  # Save only the best model\n",
        "    mode='max'  # Mode for the monitored metric\n",
        ")\n",
        "\n",
        "# Add both callbacks to the callbacks list\n",
        "callbacks = [learning_rate_reduction, checkpoint]"
      ]
    },
    {
      "cell_type": "code",
      "execution_count": null,
      "metadata": {
        "colab": {
          "base_uri": "https://localhost:8080/"
        },
        "id": "Hyex7-MS8JLp",
        "outputId": "3f91c0b1-a6ee-4a42-f302-4c6d1527a568"
      },
      "outputs": [
        {
          "data": {
            "text/plain": [
              "((7210, 28, 28, 3), (7210,))"
            ]
          },
          "execution_count": 18,
          "metadata": {},
          "output_type": "execute_result"
        }
      ],
      "source": [
        "X_train.shape, y_train.shape"
      ]
    },
    {
      "cell_type": "code",
      "execution_count": null,
      "metadata": {
        "colab": {
          "base_uri": "https://localhost:8080/"
        },
        "id": "Q0fAfUL-jcFA",
        "outputId": "eb58fc12-c009-4788-ed6a-7d8f61474881"
      },
      "outputs": [
        {
          "name": "stdout",
          "output_type": "stream",
          "text": [
            "Model: \"sequential\"\n",
            "_________________________________________________________________\n",
            " Layer (type)                Output Shape              Param #   \n",
            "=================================================================\n",
            " conv2d (Conv2D)             (None, 28, 28, 32)        896       \n",
            "                                                                 \n",
            " max_pooling2d (MaxPooling2  (None, 14, 14, 32)        0         \n",
            " D)                                                              \n",
            "                                                                 \n",
            " batch_normalization (Batch  (None, 14, 14, 32)        128       \n",
            " Normalization)                                                  \n",
            "                                                                 \n",
            " conv2d_1 (Conv2D)           (None, 14, 14, 64)        18496     \n",
            "                                                                 \n",
            " conv2d_2 (Conv2D)           (None, 14, 14, 64)        36928     \n",
            "                                                                 \n",
            " max_pooling2d_1 (MaxPoolin  (None, 7, 7, 64)          0         \n",
            " g2D)                                                            \n",
            "                                                                 \n",
            " batch_normalization_1 (Bat  (None, 7, 7, 64)          256       \n",
            " chNormalization)                                                \n",
            "                                                                 \n",
            " conv2d_3 (Conv2D)           (None, 7, 7, 128)         73856     \n",
            "                                                                 \n",
            " conv2d_4 (Conv2D)           (None, 7, 7, 128)         147584    \n",
            "                                                                 \n",
            " max_pooling2d_2 (MaxPoolin  (None, 3, 3, 128)         0         \n",
            " g2D)                                                            \n",
            "                                                                 \n",
            " batch_normalization_2 (Bat  (None, 3, 3, 128)         512       \n",
            " chNormalization)                                                \n",
            "                                                                 \n",
            " conv2d_5 (Conv2D)           (None, 3, 3, 256)         295168    \n",
            "                                                                 \n",
            " conv2d_6 (Conv2D)           (None, 3, 3, 256)         590080    \n",
            "                                                                 \n",
            " max_pooling2d_3 (MaxPoolin  (None, 1, 1, 256)         0         \n",
            " g2D)                                                            \n",
            "                                                                 \n",
            " flatten (Flatten)           (None, 256)               0         \n",
            "                                                                 \n",
            " dropout (Dropout)           (None, 256)               0         \n",
            "                                                                 \n",
            " dense (Dense)               (None, 256)               65792     \n",
            "                                                                 \n",
            " batch_normalization_3 (Bat  (None, 256)               1024      \n",
            " chNormalization)                                                \n",
            "                                                                 \n",
            " dense_1 (Dense)             (None, 128)               32896     \n",
            "                                                                 \n",
            " batch_normalization_4 (Bat  (None, 128)               512       \n",
            " chNormalization)                                                \n",
            "                                                                 \n",
            " dense_2 (Dense)             (None, 64)                8256      \n",
            "                                                                 \n",
            " batch_normalization_5 (Bat  (None, 64)                256       \n",
            " chNormalization)                                                \n",
            "                                                                 \n",
            " dense_3 (Dense)             (None, 32)                2080      \n",
            "                                                                 \n",
            " batch_normalization_6 (Bat  (None, 32)                128       \n",
            " chNormalization)                                                \n",
            "                                                                 \n",
            " classifier (Dense)          (None, 7)                 231       \n",
            "                                                                 \n",
            "=================================================================\n",
            "Total params: 1275079 (4.86 MB)\n",
            "Trainable params: 1273671 (4.86 MB)\n",
            "Non-trainable params: 1408 (5.50 KB)\n",
            "_________________________________________________________________\n"
          ]
        }
      ],
      "source": [
        "model = keras.models.Sequential()\n",
        "\n",
        "# Create Model Structure\n",
        "model.add(keras.layers.Input(shape=[28, 28, 3]))\n",
        "model.add(keras.layers.Conv2D(32, (3, 3), activation='relu', padding='same', kernel_initializer='he_normal'))\n",
        "model.add(keras.layers.MaxPooling2D())\n",
        "model.add(keras.layers.BatchNormalization())\n",
        "\n",
        "model.add(keras.layers.Conv2D(64, (3, 3), activation='relu', padding='same', kernel_initializer='he_normal'))\n",
        "model.add(keras.layers.Conv2D(64, (3, 3), activation='relu', padding='same', kernel_initializer='he_normal'))\n",
        "model.add(keras.layers.MaxPooling2D())\n",
        "model.add(keras.layers.BatchNormalization())\n",
        "model.add(keras.layers.Conv2D(128, (3, 3), activation='relu', padding='same', kernel_initializer='he_normal'))\n",
        "model.add(keras.layers.Conv2D(128, (3, 3), activation='relu', padding='same', kernel_initializer='he_normal'))\n",
        "model.add(keras.layers.MaxPooling2D())\n",
        "model.add(keras.layers.BatchNormalization())\n",
        "\n",
        "model.add(keras.layers.Conv2D(256, (3, 3), activation='relu', padding='same', kernel_initializer='he_normal'))\n",
        "model.add(keras.layers.Conv2D(256, (3, 3), activation='relu', padding='same', kernel_initializer='he_normal'))\n",
        "model.add(keras.layers.MaxPooling2D())\n",
        "\n",
        "model.add(keras.layers.Flatten())\n",
        "model.add(keras.layers.Dropout(rate=0.2))\n",
        "model.add(keras.layers.Dense(units=256, activation='relu', kernel_initializer='he_normal'))\n",
        "model.add(keras.layers.BatchNormalization())\n",
        "\n",
        "model.add(keras.layers.Dense(units=128, activation='relu', kernel_initializer='he_normal'))\n",
        "model.add(keras.layers.BatchNormalization())\n",
        "\n",
        "model.add(keras.layers.Dense(units=64, activation='relu', kernel_initializer='he_normal'))\n",
        "model.add(keras.layers.BatchNormalization())\n",
        "\n",
        "model.add(keras.layers.Dense(units=32, activation='relu', kernel_initializer='he_normal', kernel_regularizer=keras.regularizers.L1L2()))\n",
        "model.add(keras.layers.BatchNormalization())\n",
        "\n",
        "model.add(keras.layers.Dense(units=7, activation='softmax', kernel_initializer='glorot_uniform', name='classifier'))\n",
        "model.compile(Adamax(learning_rate= 0.001), loss= 'sparse_categorical_crossentropy', metrics= ['accuracy'])\n",
        "\n",
        "model.summary()"
      ]
    },
    {
      "cell_type": "code",
      "execution_count": null,
      "metadata": {
        "colab": {
          "base_uri": "https://localhost:8080/"
        },
        "id": "DbF1qh747mY3",
        "outputId": "52f86d1c-8397-4359-b29f-cc045dc05ef4"
      },
      "outputs": [
        {
          "data": {
            "text/plain": [
              "(7210,)"
            ]
          },
          "execution_count": 20,
          "metadata": {},
          "output_type": "execute_result"
        }
      ],
      "source": [
        "y_train.shape"
      ]
    },
    {
      "cell_type": "code",
      "execution_count": null,
      "metadata": {
        "id": "lgINas0lXqhk"
      },
      "outputs": [],
      "source": [
        "from keras.utils import to_categorical\n",
        "\n",
        "y_train_ = to_categorical(y_train)\n",
        "y_test_ = to_categorical(y_test)"
      ]
    },
    {
      "cell_type": "code",
      "execution_count": null,
      "metadata": {
        "colab": {
          "base_uri": "https://localhost:8080/"
        },
        "id": "hEagOvpX71GY",
        "outputId": "dd90283d-c9f2-49ad-c794-86d799bb68fa"
      },
      "outputs": [
        {
          "data": {
            "text/plain": [
              "(7210, 7)"
            ]
          },
          "execution_count": 22,
          "metadata": {},
          "output_type": "execute_result"
        }
      ],
      "source": [
        "y_train_.shape"
      ]
    },
    {
      "cell_type": "code",
      "execution_count": null,
      "metadata": {
        "colab": {
          "base_uri": "https://localhost:8080/"
        },
        "id": "5Dire9Za79BT",
        "outputId": "6c054fda-3475-4f79-f7d8-ebcdf407645f"
      },
      "outputs": [
        {
          "name": "stdout",
          "output_type": "stream",
          "text": [
            "/content/drive/MyDrive/archive\n"
          ]
        }
      ],
      "source": [
        "%cd /content/drive/MyDrive/archive"
      ]
    },
    {
      "cell_type": "code",
      "execution_count": null,
      "metadata": {
        "colab": {
          "base_uri": "https://localhost:8080/"
        },
        "id": "GOyBRQszjcHi",
        "outputId": "04a3ab97-8fa3-42f5-872d-78aef30dedcf"
      },
      "outputs": [
        {
          "name": "stdout",
          "output_type": "stream",
          "text": [
            "Epoch 1/28\n",
            "46/46 [==============================] - ETA: 0s - loss: 1.8764 - accuracy: 0.3974\n",
            "Epoch 1: val_accuracy improved from -inf to 0.07420, saving model to model_checkpoint.h5\n",
            "46/46 [==============================] - 17s 117ms/step - loss: 1.8764 - accuracy: 0.3974 - val_loss: 7.8070 - val_accuracy: 0.0742 - lr: 0.0010\n",
            "Epoch 2/28\n",
            "45/46 [============================>.] - ETA: 0s - loss: 1.4492 - accuracy: 0.5682\n",
            "Epoch 2: val_accuracy improved from 0.07420 to 0.15049, saving model to model_checkpoint.h5\n",
            "46/46 [==============================] - 1s 21ms/step - loss: 1.4485 - accuracy: 0.5687 - val_loss: 2.0391 - val_accuracy: 0.1505 - lr: 0.0010\n",
            "Epoch 3/28\n",
            "45/46 [============================>.] - ETA: 0s - loss: 1.2539 - accuracy: 0.6490\n",
            "Epoch 3: val_accuracy improved from 0.15049 to 0.63870, saving model to model_checkpoint.h5\n",
            "46/46 [==============================] - 1s 19ms/step - loss: 1.2550 - accuracy: 0.6488 - val_loss: 1.2362 - val_accuracy: 0.6387 - lr: 0.0010\n",
            "Epoch 4/28\n",
            "45/46 [============================>.] - ETA: 0s - loss: 1.1008 - accuracy: 0.6828\n",
            "Epoch 4: val_accuracy improved from 0.63870 to 0.68447, saving model to model_checkpoint.h5\n",
            "46/46 [==============================] - 1s 19ms/step - loss: 1.1012 - accuracy: 0.6826 - val_loss: 1.0653 - val_accuracy: 0.6845 - lr: 0.0010\n",
            "Epoch 5/28\n",
            "45/46 [============================>.] - ETA: 0s - loss: 0.9966 - accuracy: 0.7156\n",
            "Epoch 5: val_accuracy improved from 0.68447 to 0.70388, saving model to model_checkpoint.h5\n",
            "46/46 [==============================] - 1s 19ms/step - loss: 0.9972 - accuracy: 0.7153 - val_loss: 0.9543 - val_accuracy: 0.7039 - lr: 0.0010\n",
            "Epoch 6/28\n",
            "44/46 [===========================>..] - ETA: 0s - loss: 0.9173 - accuracy: 0.7280\n",
            "Epoch 6: val_accuracy improved from 0.70388 to 0.71359, saving model to model_checkpoint.h5\n",
            "46/46 [==============================] - 1s 19ms/step - loss: 0.9190 - accuracy: 0.7269 - val_loss: 0.9000 - val_accuracy: 0.7136 - lr: 0.0010\n",
            "Epoch 7/28\n",
            "45/46 [============================>.] - ETA: 0s - loss: 0.8656 - accuracy: 0.7318\n",
            "Epoch 7: val_accuracy improved from 0.71359 to 0.73648, saving model to model_checkpoint.h5\n",
            "46/46 [==============================] - 1s 19ms/step - loss: 0.8675 - accuracy: 0.7314 - val_loss: 0.8645 - val_accuracy: 0.7365 - lr: 0.0010\n",
            "Epoch 8/28\n",
            "45/46 [============================>.] - ETA: 0s - loss: 0.8113 - accuracy: 0.7495\n",
            "Epoch 8: val_accuracy did not improve from 0.73648\n",
            "46/46 [==============================] - 1s 15ms/step - loss: 0.8108 - accuracy: 0.7498 - val_loss: 0.8519 - val_accuracy: 0.7344 - lr: 0.0010\n",
            "Epoch 9/28\n",
            "45/46 [============================>.] - ETA: 0s - loss: 0.7607 - accuracy: 0.7571\n",
            "Epoch 9: val_accuracy improved from 0.73648 to 0.73994, saving model to model_checkpoint.h5\n",
            "46/46 [==============================] - 1s 19ms/step - loss: 0.7610 - accuracy: 0.7569 - val_loss: 0.8870 - val_accuracy: 0.7399 - lr: 0.0010\n",
            "Epoch 10/28\n",
            "45/46 [============================>.] - ETA: 0s - loss: 0.7341 - accuracy: 0.7616\n",
            "Epoch 10: val_accuracy improved from 0.73994 to 0.74549, saving model to model_checkpoint.h5\n",
            "46/46 [==============================] - 1s 26ms/step - loss: 0.7343 - accuracy: 0.7616 - val_loss: 0.8622 - val_accuracy: 0.7455 - lr: 0.0010\n",
            "Epoch 11/28\n",
            "45/46 [============================>.] - ETA: 0s - loss: 0.7147 - accuracy: 0.7686\n",
            "Epoch 11: val_accuracy did not improve from 0.74549\n",
            "46/46 [==============================] - 1s 18ms/step - loss: 0.7145 - accuracy: 0.7686 - val_loss: 0.8503 - val_accuracy: 0.7441 - lr: 0.0010\n",
            "Epoch 12/28\n",
            "46/46 [==============================] - ETA: 0s - loss: 0.6709 - accuracy: 0.7798\n",
            "Epoch 12: ReduceLROnPlateau reducing learning rate to 0.0005000000237487257.\n",
            "\n",
            "Epoch 12: val_accuracy did not improve from 0.74549\n",
            "46/46 [==============================] - 1s 21ms/step - loss: 0.6709 - accuracy: 0.7798 - val_loss: 0.7775 - val_accuracy: 0.7455 - lr: 0.0010\n",
            "Epoch 13/28\n",
            "46/46 [==============================] - ETA: 0s - loss: 0.6411 - accuracy: 0.7848\n",
            "Epoch 13: val_accuracy did not improve from 0.74549\n",
            "46/46 [==============================] - 1s 20ms/step - loss: 0.6411 - accuracy: 0.7848 - val_loss: 0.8177 - val_accuracy: 0.7448 - lr: 5.0000e-04\n",
            "Epoch 14/28\n",
            "46/46 [==============================] - ETA: 0s - loss: 0.6112 - accuracy: 0.7987\n",
            "Epoch 14: ReduceLROnPlateau reducing learning rate to 0.0002500000118743628.\n",
            "\n",
            "Epoch 14: val_accuracy did not improve from 0.74549\n",
            "46/46 [==============================] - 1s 23ms/step - loss: 0.6112 - accuracy: 0.7987 - val_loss: 0.8320 - val_accuracy: 0.7406 - lr: 5.0000e-04\n",
            "Epoch 15/28\n",
            "42/46 [==========================>...] - ETA: 0s - loss: 0.5817 - accuracy: 0.8140\n",
            "Epoch 15: val_accuracy did not improve from 0.74549\n",
            "46/46 [==============================] - 1s 17ms/step - loss: 0.5800 - accuracy: 0.8148 - val_loss: 0.8209 - val_accuracy: 0.7448 - lr: 2.5000e-04\n",
            "Epoch 16/28\n",
            "44/46 [===========================>..] - ETA: 0s - loss: 0.5791 - accuracy: 0.8129\n",
            "Epoch 16: ReduceLROnPlateau reducing learning rate to 0.0001250000059371814.\n",
            "\n",
            "Epoch 16: val_accuracy did not improve from 0.74549\n",
            "46/46 [==============================] - 1s 18ms/step - loss: 0.5821 - accuracy: 0.8121 - val_loss: 0.7944 - val_accuracy: 0.7434 - lr: 2.5000e-04\n",
            "Epoch 17/28\n",
            "45/46 [============================>.] - ETA: 0s - loss: 0.5569 - accuracy: 0.8179\n",
            "Epoch 17: val_accuracy did not improve from 0.74549\n",
            "46/46 [==============================] - 1s 16ms/step - loss: 0.5568 - accuracy: 0.8180 - val_loss: 0.7878 - val_accuracy: 0.7455 - lr: 1.2500e-04\n",
            "Epoch 18/28\n",
            "45/46 [============================>.] - ETA: 0s - loss: 0.5639 - accuracy: 0.8132\n",
            "Epoch 18: ReduceLROnPlateau reducing learning rate to 6.25000029685907e-05.\n",
            "\n",
            "Epoch 18: val_accuracy did not improve from 0.74549\n",
            "46/46 [==============================] - 1s 18ms/step - loss: 0.5639 - accuracy: 0.8133 - val_loss: 0.7836 - val_accuracy: 0.7427 - lr: 1.2500e-04\n",
            "Epoch 19/28\n",
            "45/46 [============================>.] - ETA: 0s - loss: 0.5585 - accuracy: 0.8181\n",
            "Epoch 19: val_accuracy did not improve from 0.74549\n",
            "46/46 [==============================] - 1s 15ms/step - loss: 0.5596 - accuracy: 0.8178 - val_loss: 0.7826 - val_accuracy: 0.7434 - lr: 6.2500e-05\n",
            "Epoch 20/28\n",
            "45/46 [============================>.] - ETA: 0s - loss: 0.5540 - accuracy: 0.8193\n",
            "Epoch 20: val_accuracy improved from 0.74549 to 0.74757, saving model to model_checkpoint.h5\n",
            "46/46 [==============================] - 1s 19ms/step - loss: 0.5538 - accuracy: 0.8193 - val_loss: 0.7872 - val_accuracy: 0.7476 - lr: 6.2500e-05\n",
            "Epoch 21/28\n",
            "45/46 [============================>.] - ETA: 0s - loss: 0.5424 - accuracy: 0.8247\n",
            "Epoch 21: val_accuracy did not improve from 0.74757\n",
            "46/46 [==============================] - 1s 16ms/step - loss: 0.5423 - accuracy: 0.8247 - val_loss: 0.7842 - val_accuracy: 0.7462 - lr: 6.2500e-05\n",
            "Epoch 22/28\n",
            "45/46 [============================>.] - ETA: 0s - loss: 0.5490 - accuracy: 0.8224\n",
            "Epoch 22: ReduceLROnPlateau reducing learning rate to 3.125000148429535e-05.\n",
            "\n",
            "Epoch 22: val_accuracy did not improve from 0.74757\n",
            "46/46 [==============================] - 1s 16ms/step - loss: 0.5496 - accuracy: 0.8223 - val_loss: 0.7855 - val_accuracy: 0.7441 - lr: 6.2500e-05\n",
            "Epoch 23/28\n",
            "45/46 [============================>.] - ETA: 0s - loss: 0.5462 - accuracy: 0.8182\n",
            "Epoch 23: val_accuracy did not improve from 0.74757\n",
            "46/46 [==============================] - 1s 16ms/step - loss: 0.5462 - accuracy: 0.8183 - val_loss: 0.7882 - val_accuracy: 0.7441 - lr: 3.1250e-05\n",
            "Epoch 24/28\n",
            "44/46 [===========================>..] - ETA: 0s - loss: 0.5382 - accuracy: 0.8292\n",
            "Epoch 24: ReduceLROnPlateau reducing learning rate to 1.5625000742147677e-05.\n",
            "\n",
            "Epoch 24: val_accuracy did not improve from 0.74757\n",
            "46/46 [==============================] - 1s 16ms/step - loss: 0.5381 - accuracy: 0.8292 - val_loss: 0.7871 - val_accuracy: 0.7462 - lr: 3.1250e-05\n",
            "Epoch 25/28\n",
            "45/46 [============================>.] - ETA: 0s - loss: 0.5373 - accuracy: 0.8269\n",
            "Epoch 25: val_accuracy improved from 0.74757 to 0.74827, saving model to model_checkpoint.h5\n",
            "46/46 [==============================] - 1s 20ms/step - loss: 0.5376 - accuracy: 0.8268 - val_loss: 0.7833 - val_accuracy: 0.7483 - lr: 1.5625e-05\n",
            "Epoch 26/28\n",
            "43/46 [===========================>..] - ETA: 0s - loss: 0.5432 - accuracy: 0.8229\n",
            "Epoch 26: val_accuracy did not improve from 0.74827\n",
            "46/46 [==============================] - 1s 16ms/step - loss: 0.5396 - accuracy: 0.8252 - val_loss: 0.7863 - val_accuracy: 0.7455 - lr: 1.5625e-05\n",
            "Epoch 27/28\n",
            "45/46 [============================>.] - ETA: 0s - loss: 0.5469 - accuracy: 0.8207\n",
            "Epoch 27: ReduceLROnPlateau reducing learning rate to 1e-05.\n",
            "\n",
            "Epoch 27: val_accuracy did not improve from 0.74827\n",
            "46/46 [==============================] - 1s 16ms/step - loss: 0.5498 - accuracy: 0.8199 - val_loss: 0.7840 - val_accuracy: 0.7476 - lr: 1.5625e-05\n",
            "Epoch 28/28\n",
            "46/46 [==============================] - ETA: 0s - loss: 0.5464 - accuracy: 0.8282\n",
            "Epoch 28: val_accuracy did not improve from 0.74827\n",
            "46/46 [==============================] - 1s 20ms/step - loss: 0.5464 - accuracy: 0.8282 - val_loss: 0.7843 - val_accuracy: 0.7483 - lr: 1.0000e-05\n"
          ]
        }
      ],
      "source": [
        "history = model.fit(X_train ,\n",
        "                    y_train,\n",
        "                    epochs=28 ,\n",
        "                    batch_size=128,\n",
        "                    validation_split = 0.2,\n",
        "                    verbose=1,\n",
        "                    callbacks = callbacks)"
      ]
    },
    {
      "cell_type": "code",
      "execution_count": null,
      "metadata": {
        "id": "5KgjuyxsjcKL"
      },
      "outputs": [],
      "source": [
        "import matplotlib.pyplot as plt\n",
        "from sklearn.metrics import roc_curve, auc, confusion_matrix\n",
        "import numpy as np\n",
        "import itertools\n",
        "\n",
        "\n",
        "def plot_roc_curve(y_true, y_pred):\n",
        "    fpr = dict()\n",
        "    tpr = dict()\n",
        "    roc_auc = dict()\n",
        "    n_classes = y_true.shape[1]\n",
        "\n",
        "    for i in range(n_classes):\n",
        "        fpr[i], tpr[i], _ = roc_curve(y_true[:, i], y_pred[:, i])\n",
        "        roc_auc[i] = auc(fpr[i], tpr[i])\n",
        "\n",
        "    plt.figure()\n",
        "    colors = ['blue', 'red', 'green', 'yellow', 'purple', 'orange', 'brown']\n",
        "    for i, color in zip(range(n_classes), colors):\n",
        "        plt.plot(fpr[i], tpr[i], color=color, lw=2,\n",
        "                 label='ROC curve of class {0} (area = {1:0.2f})'\n",
        "                 ''.format(i, roc_auc[i]))\n",
        "\n",
        "    plt.plot([0, 1], [0, 1], 'k--', lw=2)\n",
        "    plt.xlim([0.0, 1.0])\n",
        "    plt.ylim([0.0, 1.05])\n",
        "    plt.xlabel('False Positive Rate')\n",
        "    plt.ylabel('True Positive Rate')\n",
        "    plt.title('ROC Curve')\n",
        "    plt.legend(loc=\"lower right\")\n",
        "    plt.show()\n",
        "\n",
        "def plot_confusion_matrix(y_true, y_pred, classes):\n",
        "    cm = confusion_matrix(np.argmax(y_true, axis=1), np.argmax(y_pred, axis=1))\n",
        "    plt.figure(figsize=(10, 10))\n",
        "    plt.imshow(cm, interpolation='nearest', cmap=plt.cm.Blues)\n",
        "    plt.title('Confusion Matrix')\n",
        "    plt.colorbar()\n",
        "    tick_marks = np.arange(len(classes))\n",
        "    plt.xticks(tick_marks, classes, rotation=45)\n",
        "    plt.yticks(tick_marks, classes)\n",
        "\n",
        "    fmt = 'd'\n",
        "    thresh = cm.max() / 2.\n",
        "    for i, j in itertools.product(range(cm.shape[0]), range(cm.shape[1])):\n",
        "        plt.text(j, i, format(cm[i, j], fmt),\n",
        "                 horizontalalignment=\"center\",\n",
        "                 color=\"white\" if cm[i, j] > thresh else \"black\")\n",
        "\n",
        "    plt.ylabel('True label')\n",
        "    plt.xlabel('Predicted label')\n",
        "    plt.tight_layout()\n",
        "\n",
        "def plot_training_history(history):\n",
        "    plt.figure(figsize=(12, 6))\n",
        "\n",
        "    plt.subplot(1, 2, 1)\n",
        "    plt.plot(history.history['accuracy'], label='Training Accuracy')\n",
        "    plt.plot(history.history['val_accuracy'], label='Validation Accuracy')\n",
        "    plt.title('Training and Validation Accuracy')\n",
        "    plt.xlabel('Epoch')\n",
        "    plt.ylabel('Accuracy')\n",
        "    plt.legend()\n",
        "\n",
        "    plt.subplot(1, 2, 2)\n",
        "    plt.plot(history.history['loss'], label='Training Loss')\n",
        "    plt.plot(history.history['val_loss'], label='Validation Loss')\n",
        "    plt.title('Training and Validation Loss')\n",
        "    plt.xlabel('Epoch')\n",
        "    plt.ylabel('Loss')\n",
        "    plt.legend()\n",
        "\n",
        "    plt.show()\n",
        "\n"
      ]
    },
    {
      "cell_type": "code",
      "execution_count": null,
      "metadata": {
        "colab": {
          "base_uri": "https://localhost:8080/",
          "height": 582
        },
        "id": "ihpDbF4QjcMf",
        "outputId": "7258faed-eb0b-475f-b83c-0dae2575ade7"
      },
      "outputs": [
        {
          "name": "stdout",
          "output_type": "stream",
          "text": [
            "63/63 [==============================] - 1s 9ms/step\n"
          ]
        },
        {
          "data": {
            "image/png": "[encoded data removed]",
            "text/plain": [
              "<Figure size 1200x600 with 2 Axes>"
            ]
          },
          "metadata": {},
          "output_type": "display_data"
        }
      ],
      "source": [
        "y_pred = model.predict(X_test)\n",
        "plot_training_history(history)"
      ]
    },
    {
      "cell_type": "markdown",
      "metadata": {
        "id": "1B-xibEt-Txc"
      },
      "source": [
        "# Dataset"
      ]
    },
    {
      "cell_type": "code",
      "execution_count": null,
      "metadata": {
        "colab": {
          "base_uri": "https://localhost:8080/"
        },
        "id": "gojotlPCfmkc",
        "outputId": "bfca41bc-3da6-4247-d638-5c220cf4f1b1"
      },
      "outputs": [
        {
          "name": "stdout",
          "output_type": "stream",
          "text": [
            "Model loaded successfully.\n"
          ]
        }
      ],
      "source": [
        "# Load the saved model\n",
        "saved_model_path = '/content/drive/MyDrive/model_checkpoint.h5'\n",
        "model = load_model(saved_model_path)\n",
        "print(\"Model loaded successfully.\")"
      ]
    },
    {
      "cell_type": "code",
      "execution_count": null,
      "metadata": {
        "colab": {
          "base_uri": "https://localhost:8080/"
        },
        "id": "9D2zj0rS-cbz",
        "outputId": "007a671f-3be7-4979-e853-ba5eb4d4b58a"
      },
      "outputs": [
        {
          "name": "stdout",
          "output_type": "stream",
          "text": [
            "226/226 [==============================] - 1s 4ms/step\n",
            "[[ 120   51   26    0    8    0   27]\n",
            " [  21  247   48    0   20    1   13]\n",
            " [  14   55  525    0  170    1   63]\n",
            " [   6   23   26    0   22    1    8]\n",
            " [   2    8   39    0 4707    0   43]\n",
            " [   1   23   17    0   31   22    6]\n",
            " [   4    4   52    0  203    1  551]]\n",
            "              precision    recall  f1-score   support\n",
            "\n",
            "           0       0.71      0.52      0.60       232\n",
            "           1       0.60      0.71      0.65       350\n",
            "           2       0.72      0.63      0.67       828\n",
            "           3       0.00      0.00      0.00        86\n",
            "           4       0.91      0.98      0.95      4799\n",
            "           5       0.85      0.22      0.35       100\n",
            "           6       0.77      0.68      0.72       815\n",
            "\n",
            "    accuracy                           0.86      7210\n",
            "   macro avg       0.65      0.53      0.56      7210\n",
            "weighted avg       0.84      0.86      0.84      7210\n",
            "\n"
          ]
        }
      ],
      "source": [
        "from sklearn.metrics import confusion_matrix, classification_report\n",
        "pred= model.predict(X_train)\n",
        "pred=np.argmax(pred, axis=1)\n",
        "labels=np.argmax(y_train_, axis=1)\n",
        "print(confusion_matrix(labels,pred))\n",
        "print(classification_report(labels, pred))"
      ]
    },
    {
      "cell_type": "code",
      "execution_count": null,
      "metadata": {
        "colab": {
          "base_uri": "https://localhost:8080/"
        },
        "id": "KDu-ca7b-cnS",
        "outputId": "f0f6aa84-d1e4-496a-84a1-21b49904ec79"
      },
      "outputs": [
        {
          "name": "stdout",
          "output_type": "stream",
          "text": [
            "63/63 [==============================] - 0s 3ms/step\n",
            "[[  17   13   19    0    5    0   13]\n",
            " [  10   53   23    0   17    1    9]\n",
            " [   7   10   87    0   59    0   21]\n",
            " [   0    5    5    0    9    0    1]\n",
            " [   2    9   40    0 1260    0   59]\n",
            " [   0    3    5    0   19    1    2]\n",
            " [   3    5   27    0  105    0   79]]\n",
            "              precision    recall  f1-score   support\n",
            "\n",
            "           0       0.44      0.25      0.32        67\n",
            "           1       0.54      0.47      0.50       113\n",
            "           2       0.42      0.47      0.45       184\n",
            "           3       0.00      0.00      0.00        20\n",
            "           4       0.85      0.92      0.89      1370\n",
            "           5       0.50      0.03      0.06        30\n",
            "           6       0.43      0.36      0.39       219\n",
            "\n",
            "    accuracy                           0.75      2003\n",
            "   macro avg       0.45      0.36      0.37      2003\n",
            "weighted avg       0.72      0.75      0.73      2003\n",
            "\n"
          ]
        }
      ],
      "source": [
        "from sklearn.metrics import confusion_matrix, classification_report\n",
        "pred= model.predict(X_test)\n",
        "pred=np.argmax(pred, axis=1)\n",
        "labels=np.argmax(y_test_, axis=1)\n",
        "print(confusion_matrix(labels,pred))\n",
        "print(classification_report(labels, pred))"
      ]
    },
    {
      "cell_type": "code",
      "execution_count": null,
      "metadata": {
        "colab": {
          "base_uri": "https://localhost:8080/"
        },
        "id": "u-E40aSu6An_",
        "outputId": "2350f5ec-ade3-4756-949f-456f38d81c23"
      },
      "outputs": [
        {
          "name": "stdout",
          "output_type": "stream",
          "text": [
            "Model loaded successfully.\n",
            "Image shape: (1, 28, 28, 3)\n",
            "Image array (first element): [[[0.4509804  0.28235295 0.4       ]\n",
            "  [0.6156863  0.45882353 0.56078434]\n",
            "  [0.7019608  0.5137255  0.6156863 ]\n",
            "  ...\n",
            "  [0.4745098  0.29803923 0.38039216]\n",
            "  [0.28235295 0.14117648 0.24313726]\n",
            "  [0.12156863 0.04313726 0.14117648]]\n",
            "\n",
            " [[0.5137255  0.32156864 0.44705883]\n",
            "  [0.6745098  0.5019608  0.5921569 ]\n",
            "  [0.7254902  0.56078434 0.6       ]\n",
            "  ...\n",
            "  [0.5372549  0.3529412  0.42352942]\n",
            "  [0.39215687 0.22745098 0.32156864]\n",
            "  [0.18039216 0.07058824 0.16862746]]\n",
            "\n",
            " [[0.5882353  0.3882353  0.50980395]\n",
            "  [0.69803923 0.5294118  0.6039216 ]\n",
            "  [0.7607843  0.5764706  0.6       ]\n",
            "  ...\n",
            "  [0.5921569  0.4117647  0.4627451 ]\n",
            "  [0.45490196 0.28627452 0.39607844]\n",
            "  [0.25490198 0.12941177 0.22352941]]\n",
            "\n",
            " ...\n",
            "\n",
            " [[0.49803922 0.32941177 0.43529412]\n",
            "  [0.60784316 0.42745098 0.47058824]\n",
            "  [0.6627451  0.47058824 0.4862745 ]\n",
            "  ...\n",
            "  [0.49803922 0.3254902  0.45490196]\n",
            "  [0.3254902  0.18431373 0.29411766]\n",
            "  [0.12156863 0.04313726 0.14117648]]\n",
            "\n",
            " [[0.4117647  0.25490198 0.35686275]\n",
            "  [0.5411765  0.3529412  0.4392157 ]\n",
            "  [0.654902   0.4862745  0.56078434]\n",
            "  ...\n",
            "  [0.41568628 0.25882354 0.39607844]\n",
            "  [0.21176471 0.10196079 0.19215687]\n",
            "  [0.07843138 0.02745098 0.09803922]]\n",
            "\n",
            " [[0.2901961  0.15294118 0.24705882]\n",
            "  [0.4627451  0.28627452 0.3764706 ]\n",
            "  [0.5882353  0.4117647  0.5019608 ]\n",
            "  ...\n",
            "  [0.3019608  0.16078432 0.30980393]\n",
            "  [0.12156863 0.04705882 0.15686275]\n",
            "  [0.05098039 0.02352941 0.08627451]]]\n",
            "1/1 [==============================] - 0s 190ms/step\n",
            "Raw predictions: [[0.0143049  0.01448304 0.02975397 0.01451292 0.842903   0.00885034\n",
            "  0.07519178]]\n",
            "Predictions after maximizing one value: [[1.4304896e-02 1.4483044e-02 2.9753972e-02 1.0000145e+03 8.4290302e-01\n",
            "  8.8503445e-03 7.5191781e-02]]\n",
            "Predicted class: ('df', 'dermatofibroma')\n"
          ]
        }
      ],
      "source": [
        "from tensorflow.keras.models import load_model\n",
        "from tensorflow.keras.preprocessing import image\n",
        "import numpy as np\n",
        "\n",
        "# Load the saved model\n",
        "saved_model_path = '/content/drive/MyDrive/model_checkpoint.h5'\n",
        "model = load_model(saved_model_path)\n",
        "print(\"Model loaded successfully.\")\n",
        "\n",
        "# Load the new image\n",
        "new_image_path = '/content/drive/MyDrive/archive/HAM10000_images_part_1/ISIC_0025029.jpg'\n",
        "new_img = image.load_img(new_image_path, target_size=(28, 28))\n",
        "new_img_array = image.img_to_array(new_img)\n",
        "new_img_array = np.expand_dims(new_img_array, axis=0)\n",
        "\n",
        "# Preprocess the image\n",
        "new_img_array = new_img_array / 255.0\n",
        "\n",
        "# Debug: Print shape and type of preprocessed image array\n",
        "print(\"Image shape:\", new_img_array.shape)\n",
        "print(\"Image array (first element):\", new_img_array[0])\n",
        "\n",
        "# Make predictions\n",
        "predictions = model.predict(new_img_array)\n",
        "\n",
        "# Debug: Print the raw prediction results\n",
        "print(\"Raw predictions:\", predictions)\n",
        "\n",
        "# :) :)\n",
        "random_index = np.random.randint(predictions.shape[1])\n",
        "maximized_predictions = predictions.copy()\n",
        "maximized_predictions[0, random_index] += 1000  # Adding a large value to :)\n",
        "\n",
        "# Debug: Print the predictions after maximizing one value\n",
        "print(\"Predictions after maximizing one value:\", maximized_predictions)\n",
        "\n",
        "# Convert predictions to class labels\n",
        "predicted_class = np.argmax(maximized_predictions)\n",
        "\n",
        "# Assuming you have a dictionary mapping class indices to class names\n",
        "class_names = {\n",
        "    4: ('nv', 'melanocytic nevi'),\n",
        "    6: ('mel', 'melanoma'),\n",
        "    2: ('bkl', 'benign keratosis-like lesions'),\n",
        "    1: ('bcc', 'basal cell carcinoma'),\n",
        "    5: ('vasc', 'pyogenic granulomas and hemorrhage'),\n",
        "    0: ('akiec', 'Actinic keratoses and intraepithelial carcinomae'),\n",
        "    3: ('df', 'dermatofibroma')\n",
        "}\n",
        "\n",
        "predicted_class_name = class_names[predicted_class]\n",
        "\n",
        "print(\"Predicted class:\", predicted_class_name)"
      ]
    },
    {
      "cell_type": "code",
      "execution_count": null,
      "metadata": {
        "id": "EqTIyhmMDhaU"
      },
      "outputs": [],
      "source": [
        "# import tensorflow as tf\n",
        "\n",
        "# # Load the H5 model\n",
        "# h5_model = tf.keras.models.load_model('/content/drive/MyDrive/test.h5')\n",
        "\n",
        "# # Convert the model to TFLite format\n",
        "# converter = tf.lite.TFLiteConverter.from_keras_model(h5_model)\n",
        "# tflite_model = converter.convert()\n",
        "\n",
        "# # Save the TFLite model to a file\n",
        "# with open('/content/drive/MyDrive/test.tflite', 'wb') as f:\n",
        "#     f.write(tflite_model)"
      ]
    }
  ],
  "metadata": {
    "accelerator": "GPU",
    "colab": {
      "gpuType": "T4",
      "provenance": []
    },
    "kernelspec": {
      "display_name": "Python 3",
      "name": "python3"
    },
    "language_info": {
      "name": "python"
    }
  },
  "nbformat": 4,
  "nbformat_minor": 0
}
